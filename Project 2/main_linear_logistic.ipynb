{
 "cells": [
  {
   "cell_type": "markdown",
   "metadata": {},
   "source": [
    "# Linear and Logistic Regression"
   ]
  },
  {
   "cell_type": "code",
   "execution_count": 1,
   "metadata": {},
   "outputs": [],
   "source": [
    "from sklearn.cluster import KMeans\n",
    "import numpy as np\n",
    "import csv\n",
    "import math\n",
    "import matplotlib.pyplot\n",
    "from matplotlib import pyplot as plt\n",
    "import pandas as pd"
   ]
  },
  {
   "cell_type": "markdown",
   "metadata": {},
   "source": [
    "### Data Pre-processing(Using Data concatenation and Datapreprocessing)"
   ]
  },
  {
   "cell_type": "code",
   "execution_count": 2,
   "metadata": {},
   "outputs": [],
   "source": [
    "#Reading datafiles\n",
    "human_features= pd.read_csv('HumanObserved-Dataset\\HumanObserved-Features-Data\\HumanObserved-Features-Data.csv')\n",
    "human_same_pairs=pd.read_csv(\"HumanObserved-Dataset\\HumanObserved-Features-Data\\same_pairs.csv\")\n",
    "human_diff_pairs=pd.read_csv(\"HumanObserved-Dataset\\HumanObserved-Features-Data\\diffn_pairs.csv\")\n",
    "gsc_features= pd.read_csv('GSC-Dataset\\GSC-Features-Data\\GSC-Features.csv')\n",
    "gsc_same_pairs=pd.read_csv(\"GSC-Dataset\\GSC-Features-Data\\same_pairs.csv\")\n",
    "gsc_diff_pairs=pd.read_csv(\"GSC-Dataset\\GSC-Features-Data\\diffn_pairs.csv\")"
   ]
  },
  {
   "cell_type": "code",
   "execution_count": 3,
   "metadata": {},
   "outputs": [],
   "source": [
    "#Generating Human concatenate dataset\n",
    "human_con_A=human_same_pairs[[\"img_id_A\",\"img_id_B\"]].copy()\n",
    "human_con_A=pd.merge(human_con_A,human_features.iloc[:,1:], how='inner', left_on='img_id_A', right_on='img_id').drop(['img_id'],axis=1)\n",
    "human_con_A=pd.merge(human_con_A,human_features.iloc[:,1:], how='inner', left_on='img_id_B', right_on='img_id',suffixes=('_A','_B')).drop(['img_id'],axis=1)\n",
    "human_con_A=pd.merge(human_con_A, human_same_pairs,  how='inner', left_on=['img_id_A','img_id_B'], right_on = ['img_id_A','img_id_B'])\n",
    "human_con_B=human_diff_pairs[[\"img_id_A\",\"img_id_B\"]].iloc[0:790,:].copy()\n",
    "human_con_B=pd.merge(human_con_B,human_features.iloc[:,1:], how='inner', left_on='img_id_A', right_on='img_id').drop(['img_id'],axis=1)\n",
    "human_con_B=pd.merge(human_con_B,human_features.iloc[:,1:], how='inner', left_on='img_id_B', right_on='img_id',suffixes=('_A','_B')).drop(['img_id'],axis=1)\n",
    "human_con_B=pd.merge(human_con_B, human_diff_pairs,  how='inner', left_on=['img_id_A','img_id_B'], right_on = ['img_id_A','img_id_B'])\n",
    "human_concate=human_con_A.append(human_con_B, ignore_index=True)\n",
    "human_concate=human_concate.reindex(np.random.permutation(human_concate.index))\n",
    "#human_concate.to_csv(\"human_concate.csv\",index=False)\n",
    "human_concate.iloc[:,2:-1].to_csv(\"human_concate_X.csv\",index=False,header=None)\n",
    "human_concate.iloc[:,-1:].to_csv(\"human_concate_t.csv\",index=False,header=None)"
   ]
  },
  {
   "cell_type": "code",
   "execution_count": 4,
   "metadata": {},
   "outputs": [],
   "source": [
    "#Generating gsc concatenate dataset\n",
    "gsc_con_A=gsc_same_pairs[[\"img_id_A\",\"img_id_B\"]].iloc[0:1500,:].copy()\n",
    "gsc_con_A=pd.merge(gsc_con_A,gsc_features, how='inner', left_on='img_id_A', right_on='img_id').drop(['img_id'],axis=1)\n",
    "gsc_con_A=pd.merge(gsc_con_A,gsc_features, how='inner', left_on='img_id_B', right_on='img_id',suffixes=('_A','_B')).drop(['img_id'],axis=1)\n",
    "gsc_con_A=pd.merge(gsc_con_A,gsc_same_pairs,how='inner',left_on=['img_id_A','img_id_B'],right_on=['img_id_A','img_id_B'])\n",
    "gsc_con_B=gsc_diff_pairs[[\"img_id_A\",\"img_id_B\"]].iloc[0:1500,:].copy()\n",
    "gsc_con_B=pd.merge(gsc_con_B,gsc_features, how='inner', left_on='img_id_A', right_on='img_id').drop(['img_id'],axis=1)\n",
    "gsc_con_B=pd.merge(gsc_con_B,gsc_features, how='inner', left_on='img_id_B', right_on='img_id',suffixes=('_A','_B')).drop(['img_id'],axis=1)\n",
    "gsc_con_B=pd.merge(gsc_con_B,gsc_diff_pairs,how='inner',left_on=['img_id_A','img_id_B'],right_on=['img_id_A','img_id_B'])\n",
    "gsc_concate=gsc_con_A.append(gsc_con_B, ignore_index=True)\n",
    "gsc_concate=gsc_concate.reindex(np.random.permutation(gsc_concate.index))\n",
    "#gsc_concate.to_csv(\"gsc_concate.csv\",index=False)\n",
    "gsc_concate.iloc[:,2:-1].to_csv(\"gsc_concate_X.csv\",index=False,header=None)\n",
    "gsc_concate.iloc[:,-1:].to_csv(\"gsc_concate_t.csv\",index=False,header=None)"
   ]
  },
  {
   "cell_type": "code",
   "execution_count": 5,
   "metadata": {},
   "outputs": [],
   "source": [
    "#Generating human subtraction dataset\n",
    "fA=human_concate.iloc[:,2:11]\n",
    "fB=human_concate.iloc[:,11:20]\n",
    "fAfB=abs(fA-fB.values)\n",
    "fAfB.columns = pd.Index(map(lambda x : str(x)[:-2], fAfB.columns))\n",
    "human_sub=pd.concat([human_concate[[\"img_id_A\",\"img_id_B\"]].copy(),fAfB,human_concate.iloc[:,-1:]],axis=1)\n",
    "human_sub=human_sub.reindex(np.random.permutation(human_sub.index))\n",
    "#human_sub.to_csv(\"human_sub.csv\",index=False,header=None)\n",
    "human_sub.iloc[:,2:-1].to_csv(\"human_sub_X.csv\",index=False,header=None)\n",
    "human_sub.iloc[:,-1:].to_csv(\"human_sub_t.csv\",index=False,header=None)"
   ]
  },
  {
   "cell_type": "code",
   "execution_count": 6,
   "metadata": {},
   "outputs": [],
   "source": [
    "#Generating gsc subtraction dataset\n",
    "fA=gsc_concate.iloc[:,2:514]\n",
    "fB=gsc_concate.iloc[:,514:-1]\n",
    "fAfB=abs(fA-fB.values)\n",
    "fAfB.columns = pd.Index(map(lambda x : str(x)[:-2], fAfB.columns))\n",
    "gsc_sub=pd.concat([gsc_concate[[\"img_id_A\",\"img_id_B\"]].copy(),fAfB,gsc_concate.iloc[:,-1:]],axis=1)\n",
    "gsc_sub=gsc_sub.reindex(np.random.permutation(gsc_sub.index))\n",
    "#gsc_sub.to_csv(\"gsc_sub.csv\",index=False,header=None)\n",
    "gsc_sub.iloc[:,2:-1].to_csv(\"gsc_sub_X.csv\",index=False,header=None)\n",
    "gsc_sub.iloc[:,-1:].to_csv(\"gsc_sub_t.csv\",index=False,header=None)"
   ]
  },
  {
   "cell_type": "code",
   "execution_count": 7,
   "metadata": {},
   "outputs": [],
   "source": [
    "training_dataset=[\"human_concate_X.csv\",\"human_sub_X.csv\",\"gsc_concate_X.csv\",\"gsc_sub_X.csv\"]\n",
    "test_dataset=[\"human_concate_t.csv\",\"human_sub_t.csv\",\"gsc_concate_t.csv\",\"gsc_sub_t.csv\"]"
   ]
  },
  {
   "cell_type": "markdown",
   "metadata": {},
   "source": [
    "### Linear Regression for all the four dataset"
   ]
  },
  {
   "cell_type": "code",
   "execution_count": 8,
   "metadata": {
    "scrolled": false
   },
   "outputs": [
    {
     "name": "stdout",
     "output_type": "stream",
     "text": [
      "----------Linear Regression--------------------\n",
      "----------Gradient Descent Solution human_concate_X.csv  and  human_concate_t.csv --------------------\n",
      "\n",
      "eta= 0.01\n",
      "E_rms Training   = 0.39071\n",
      "E_rms Validation = 0.3752\n",
      "E_rms Testing    = 0.30614\n"
     ]
    },
    {
     "data": {
      "image/png": "[encoded data removed]",
      "text/plain": [
       "<Figure size 432x288 with 1 Axes>"
      ]
     },
     "metadata": {},
     "output_type": "display_data"
    },
    {
     "name": "stderr",
     "output_type": "stream",
     "text": [
      "C:\\Users\\sassi\\Anaconda3\\lib\\site-packages\\ipykernel_launcher.py:31: DeprecationWarning: in the future out of bounds indices will raise an error instead of being ignored by `numpy.delete`.\n"
     ]
    },
    {
     "name": "stdout",
     "output_type": "stream",
     "text": [
      "----------Linear Regression--------------------\n",
      "----------Gradient Descent Solution human_sub_X.csv  and  human_sub_t.csv --------------------\n",
      "\n",
      "eta= 0.01\n",
      "E_rms Training   = 0.43551\n",
      "E_rms Validation = 0.43411\n",
      "E_rms Testing    = 0.43558\n"
     ]
    },
    {
     "data": {
      "image/png": "[encoded data removed]",
      "text/plain": [
       "<Figure size 432x288 with 1 Axes>"
      ]
     },
     "metadata": {},
     "output_type": "display_data"
    },
    {
     "name": "stdout",
     "output_type": "stream",
     "text": [
      "----------Linear Regression--------------------\n",
      "----------Gradient Descent Solution gsc_concate_X.csv  and  gsc_concate_t.csv --------------------\n",
      "\n",
      "eta= 0.01\n",
      "E_rms Training   = 0.33748\n",
      "E_rms Validation = 0.31473\n",
      "E_rms Testing    = 0.32808\n"
     ]
    },
    {
     "data": {
      "image/png": "[encoded data removed]",
      "text/plain": [
       "<Figure size 432x288 with 1 Axes>"
      ]
     },
     "metadata": {},
     "output_type": "display_data"
    },
    {
     "name": "stdout",
     "output_type": "stream",
     "text": [
      "----------Linear Regression--------------------\n",
      "----------Gradient Descent Solution gsc_sub_X.csv  and  gsc_sub_t.csv --------------------\n",
      "\n",
      "eta= 0.01\n",
      "E_rms Training   = 0.38445\n",
      "E_rms Validation = 0.40764\n",
      "E_rms Testing    = 0.36086\n"
     ]
    },
    {
     "data": {
      "image/png": "[encoded data removed]",
      "text/plain": [
       "<Figure size 432x288 with 1 Axes>"
      ]
     },
     "metadata": {},
     "output_type": "display_data"
    }
   ],
   "source": [
    "for data,target in zip(training_dataset,test_dataset):\n",
    "    maxAcc = 0.0\n",
    "    maxIter = 0\n",
    "    C_Lambda = 0.5\n",
    "    TrainingPercent = 80\n",
    "    ValidationPercent = 10\n",
    "    TestPercent = 10\n",
    "    M = 10\n",
    "    PHI = []\n",
    "    IsSynthetic = False\n",
    "\n",
    "    def GetTargetVector(filePath):\n",
    "        t = []\n",
    "        with open(filePath, 'r') as f:\n",
    "            reader = csv.reader(f)\n",
    "            for row in reader:  \n",
    "                t.append(int(row[0]))\n",
    "        return t\n",
    "\n",
    "    def GenerateRawData(filePath, IsSynthetic):    \n",
    "        dataMatrix = [] \n",
    "        with open(filePath, 'r') as fi:\n",
    "            reader = csv.reader(fi)\n",
    "            for row in reader:\n",
    "                dataRow = []\n",
    "                for column in row:\n",
    "                    dataRow.append(float(column))\n",
    "                dataMatrix.append(dataRow)   \n",
    "\n",
    "        if IsSynthetic == False :\n",
    "            dataMatrix = np.delete(dataMatrix, [5,6,7,8,9], axis=1)\n",
    "        dataMatrix = np.transpose(dataMatrix)     \n",
    "        return dataMatrix\n",
    "\n",
    "    def GenerateTrainingTarget(rawTraining,TrainingPercent = 80):\n",
    "        TrainingLen = int(math.ceil(len(rawTraining)*(TrainingPercent*0.01)))\n",
    "        t           = rawTraining[:TrainingLen]\n",
    "        return t\n",
    "\n",
    "    def GenerateTrainingDataMatrix(rawData, TrainingPercent = 80):\n",
    "        T_len = int(math.ceil(len(rawData[0])*0.01*TrainingPercent))\n",
    "        d2 = rawData[:,0:T_len]\n",
    "        return d2\n",
    "\n",
    "    def GenerateValData(rawData, ValPercent, TrainingCount): \n",
    "        valSize = int(math.ceil(len(rawData[0])*ValPercent*0.01))\n",
    "        V_End = TrainingCount + valSize\n",
    "        dataMatrix = rawData[:,TrainingCount+1:V_End]\n",
    "        #print (str(ValPercent) + \"% Val Data Generated..\")  \n",
    "        return dataMatrix\n",
    "\n",
    "    def GenerateValTargetVector(rawData, ValPercent, TrainingCount): \n",
    "        valSize = int(math.ceil(len(rawData)*ValPercent*0.01))\n",
    "        V_End = TrainingCount + valSize\n",
    "        t =rawData[TrainingCount+1:V_End]\n",
    "        return t\n",
    "\n",
    "    def GenerateBigSigma(Data, MuMatrix,TrainingPercent,IsSynthetic):\n",
    "        BigSigma    = np.zeros((len(Data),len(Data)))\n",
    "        DataT       = np.transpose(Data)\n",
    "        TrainingLen = math.ceil(len(DataT)*(TrainingPercent*0.01))        \n",
    "        varVect     = []\n",
    "        for i in range(0,len(DataT[0])):\n",
    "            vct = []\n",
    "            for j in range(0,int(TrainingLen)):\n",
    "                vct.append(Data[i][j])    \n",
    "            varVect.append(np.var(vct))\n",
    "\n",
    "        for j in range(len(Data)):\n",
    "            BigSigma[j][j] = varVect[j]\n",
    "        if IsSynthetic == True:\n",
    "            BigSigma = np.dot(3,BigSigma)\n",
    "        else:\n",
    "            BigSigma = np.dot(200,BigSigma)\n",
    "        return BigSigma\n",
    "\n",
    "    def GetScalar(DataRow,MuRow, BigSigInv):  \n",
    "        R = np.subtract(DataRow,MuRow)\n",
    "        T = np.dot(BigSigInv,np.transpose(R))  \n",
    "        L = np.dot(R,T)\n",
    "        return L\n",
    "\n",
    "    def GetRadialBasisOut(DataRow,MuRow, BigSigInv):    \n",
    "        phi_x = math.exp(-0.5*GetScalar(DataRow,MuRow,BigSigInv))\n",
    "        return phi_x\n",
    "\n",
    "    def GetPhiMatrix(Data, MuMatrix, BigSigma, TrainingPercent = 80):\n",
    "        DataT = np.transpose(Data)\n",
    "        TrainingLen = math.ceil(len(DataT)*(TrainingPercent*0.01))         \n",
    "        PHI = np.zeros((int(TrainingLen),len(MuMatrix))) \n",
    "        BigSigInv = np.linalg.pinv(BigSigma)\n",
    "        for  C in range(0,len(MuMatrix)):\n",
    "            for R in range(0,int(TrainingLen)):\n",
    "                PHI[R][C] = GetRadialBasisOut(DataT[R], MuMatrix[C], BigSigInv)\n",
    "        return PHI\n",
    "\n",
    "    def GetWeightsClosedForm(PHI, T, Lambda):\n",
    "        Lambda_I = np.identity(len(PHI[0]))\n",
    "        for i in range(0,len(PHI[0])):\n",
    "            Lambda_I[i][i] = Lambda\n",
    "        PHI_T       = np.transpose(PHI)\n",
    "        PHI_SQR     = np.dot(PHI_T,PHI)\n",
    "        PHI_SQR_LI  = np.add(Lambda_I,PHI_SQR)\n",
    "        PHI_SQR_INV = np.linalg.pinv(PHI_SQR_LI)\n",
    "        INTER       = np.dot(PHI_SQR_INV, PHI_T)\n",
    "        W           = np.dot(INTER, T)\n",
    "        return W\n",
    "\n",
    "\n",
    "    def GetValTest(VAL_PHI,W):\n",
    "        Y = np.dot(W,np.transpose(VAL_PHI))\n",
    "        return Y\n",
    "\n",
    "    def GetErms(VAL_TEST_OUT,ValDataAct):\n",
    "        sum = 0.0\n",
    "        t=0\n",
    "        accuracy = 0.0\n",
    "        counter = 0\n",
    "        val = 0.0\n",
    "        for i in range (0,len(VAL_TEST_OUT)):\n",
    "            sum = sum + math.pow((ValDataAct[i] - VAL_TEST_OUT[i]),2)\n",
    "            if(int(np.around(VAL_TEST_OUT[i], 0)) == ValDataAct[i]):\n",
    "                counter+=1\n",
    "        accuracy = (float((counter*100))/float(len(VAL_TEST_OUT)))\n",
    "        return (str(accuracy) + ',' +  str(math.sqrt(sum/len(VAL_TEST_OUT))))\n",
    "\n",
    "\n",
    "    RawTarget = GetTargetVector(target)\n",
    "    RawData   = GenerateRawData(data,IsSynthetic)\n",
    "    \n",
    "    # Preparing Training Data\n",
    "    TrainingTarget = np.array(GenerateTrainingTarget(RawTarget,TrainingPercent))\n",
    "    TrainingData   = GenerateTrainingDataMatrix(RawData,TrainingPercent)\n",
    "\n",
    "\n",
    "    # Preparing Validation Data\n",
    "    ValDataAct = np.array(GenerateValTargetVector(RawTarget,ValidationPercent, (len(TrainingTarget))))\n",
    "    ValData    = GenerateValData(RawData,ValidationPercent, (len(TrainingTarget)))\n",
    "\n",
    "\n",
    "    # Preparing Test Data\n",
    "    TestDataAct = np.array(GenerateValTargetVector(RawTarget,TestPercent, (len(TrainingTarget)+len(ValDataAct))))\n",
    "    TestData = GenerateValData(RawData,TestPercent, (len(TrainingTarget)+len(ValDataAct)))\n",
    "\n",
    "\n",
    "    #Closed Form Solution\n",
    "    ErmsArr = []\n",
    "    AccuracyArr = []\n",
    "\n",
    "    kmeans = KMeans(n_clusters=M, random_state=0).fit(np.transpose(TrainingData))\n",
    "    Mu = kmeans.cluster_centers_\n",
    "\n",
    "    BigSigma     = GenerateBigSigma(RawData, Mu, TrainingPercent,IsSynthetic)\n",
    "    TRAINING_PHI = GetPhiMatrix(RawData, Mu, BigSigma, TrainingPercent)\n",
    "    W            = GetWeightsClosedForm(TRAINING_PHI,TrainingTarget,(C_Lambda)) \n",
    "    TEST_PHI     = GetPhiMatrix(TestData, Mu, BigSigma, 100) \n",
    "    VAL_PHI      = GetPhiMatrix(ValData, Mu, BigSigma, 100)\n",
    "\n",
    "\n",
    "    # Finding Erms on training, validation and test set \n",
    "    TR_TEST_OUT  = GetValTest(TRAINING_PHI,W)\n",
    "    VAL_TEST_OUT = GetValTest(VAL_PHI,W)\n",
    "    TEST_OUT     = GetValTest(TEST_PHI,W)\n",
    "\n",
    "    TrainingAccuracy   = str(GetErms(TR_TEST_OUT,TrainingTarget))\n",
    "    ValidationAccuracy = str(GetErms(VAL_TEST_OUT,ValDataAct))\n",
    "    TestAccuracy       = str(GetErms(TEST_OUT,TestDataAct))\n",
    "\n",
    "    # Gradient Descent solution for Linear Regression\n",
    "    W_Now        = np.dot(450, W)\n",
    "    La           = 2\n",
    "    learningRate = 0.01\n",
    "    L_Erms_Val   = []\n",
    "    L_Erms_TR    = []\n",
    "    L_Erms_Test  = []\n",
    "    W_Mat        = []\n",
    "    iteration    =[]\n",
    "    for i in range(0,1250):\n",
    "        iteration.append(i)\n",
    "        #print ('---------Iteration: ' + str(i) + '--------------')\n",
    "        Delta_E_D     = -np.dot((TrainingTarget[i] - np.dot(np.transpose(W_Now),TRAINING_PHI[i])),TRAINING_PHI[i])\n",
    "        La_Delta_E_W  = np.dot(La,W_Now)\n",
    "        Delta_E       = np.add(Delta_E_D,La_Delta_E_W)    \n",
    "        Delta_W       = -np.dot(learningRate,Delta_E)\n",
    "        W_T_Next      = W_Now + Delta_W\n",
    "        W_Now         = W_T_Next\n",
    "\n",
    "        #-----------------TrainingData Accuracy---------------------#\n",
    "        TR_TEST_OUT   = GetValTest(TRAINING_PHI,W_T_Next) \n",
    "        Erms_TR       = GetErms(TR_TEST_OUT,TrainingTarget)\n",
    "        L_Erms_TR.append(float(Erms_TR.split(',')[1]))\n",
    "\n",
    "        #-----------------ValidationData Accuracy---------------------#\n",
    "        VAL_TEST_OUT  = GetValTest(VAL_PHI,W_T_Next) \n",
    "        Erms_Val      = GetErms(VAL_TEST_OUT,ValDataAct)\n",
    "        L_Erms_Val.append(float(Erms_Val.split(',')[1]))\n",
    "\n",
    "        #-----------------TestingData Accuracy---------------------#\n",
    "        TEST_OUT      = GetValTest(TEST_PHI,W_T_Next) \n",
    "        Erms_Test = GetErms(TEST_OUT,TestDataAct)\n",
    "        L_Erms_Test.append(float(Erms_Test.split(',')[1]))\n",
    "    print ('----------Linear Regression--------------------')\n",
    "    print ('----------Gradient Descent Solution',data,' and ',target,'--------------------')\n",
    "    print (\"\\neta=\",learningRate)\n",
    "    print (\"E_rms Training   = \" + str(np.around(min(L_Erms_TR),5)))\n",
    "    print (\"E_rms Validation = \" + str(np.around(min(L_Erms_Val),5)))\n",
    "    print (\"E_rms Testing    = \" + str(np.around(min(L_Erms_Test),5)))\n",
    "    fig,ax = plt.subplots(1)\n",
    "\n",
    "    \n",
    "    ax.plot(iteration,L_Erms_TR)\n",
    "    ax.set_ylabel('Erms')\n",
    "    ax.set_xlabel('Iteration')\n",
    "\n",
    "   \n",
    "    ax.set_yticklabels([])\n",
    "    ax.set_xticklabels([])\n",
    "    ax.set_title(\"Erms Training\")\n",
    "    \n",
    "    plt.show()"
   ]
  },
  {
   "cell_type": "markdown",
   "metadata": {},
   "source": [
    "### Logistic Regression for all the four data set"
   ]
  },
  {
   "cell_type": "code",
   "execution_count": 9,
   "metadata": {},
   "outputs": [
    {
     "name": "stdout",
     "output_type": "stream",
     "text": [
      "----------Logistic Regression--------------------\n",
      "----------Gradient Descent Solution human_concate_X.csv  and  human_concate_t.csv --------------------\n",
      "\n",
      "eta= 0.01\n",
      "E_rms Training   = 0.53176\n",
      "E_rms Validation = 0.50591\n",
      "E_rms Testing    = 0.43305\n"
     ]
    },
    {
     "data": {
      "image/png": "[encoded data removed]",
      "text/plain": [
       "<Figure size 432x288 with 1 Axes>"
      ]
     },
     "metadata": {},
     "output_type": "display_data"
    },
    {
     "name": "stderr",
     "output_type": "stream",
     "text": [
      "C:\\Users\\sassi\\Anaconda3\\lib\\site-packages\\ipykernel_launcher.py:32: DeprecationWarning: in the future out of bounds indices will raise an error instead of being ignored by `numpy.delete`.\n"
     ]
    },
    {
     "name": "stdout",
     "output_type": "stream",
     "text": [
      "----------Logistic Regression--------------------\n",
      "----------Gradient Descent Solution human_sub_X.csv  and  human_sub_t.csv --------------------\n",
      "\n",
      "eta= 0.01\n",
      "E_rms Training   = 0.52673\n",
      "E_rms Validation = 0.51538\n",
      "E_rms Testing    = 0.54347\n"
     ]
    },
    {
     "data": {
      "image/png": "[encoded data removed]",
      "text/plain": [
       "<Figure size 432x288 with 1 Axes>"
      ]
     },
     "metadata": {},
     "output_type": "display_data"
    },
    {
     "name": "stdout",
     "output_type": "stream",
     "text": [
      "----------Logistic Regression--------------------\n",
      "----------Gradient Descent Solution gsc_concate_X.csv  and  gsc_concate_t.csv --------------------\n",
      "\n",
      "eta= 0.01\n",
      "E_rms Training   = 0.23119\n",
      "E_rms Validation = 0.23664\n",
      "E_rms Testing    = 0.23373\n"
     ]
    },
    {
     "data": {
      "image/png": "[encoded data removed]",
      "text/plain": [
       "<Figure size 432x288 with 1 Axes>"
      ]
     },
     "metadata": {},
     "output_type": "display_data"
    },
    {
     "name": "stdout",
     "output_type": "stream",
     "text": [
      "----------Logistic Regression--------------------\n",
      "----------Gradient Descent Solution gsc_sub_X.csv  and  gsc_sub_t.csv --------------------\n",
      "\n",
      "eta= 0.01\n",
      "E_rms Training   = 0.35892\n",
      "E_rms Validation = 0.36613\n",
      "E_rms Testing    = 0.35164\n"
     ]
    },
    {
     "data": {
      "image/png": "[encoded data removed]",
      "text/plain": [
       "<Figure size 432x288 with 1 Axes>"
      ]
     },
     "metadata": {},
     "output_type": "display_data"
    }
   ],
   "source": [
    "for data,target in zip(training_dataset,test_dataset):\n",
    "    maxAcc = 0.0\n",
    "    maxIter = 0\n",
    "    C_Lambda = 0.5\n",
    "    TrainingPercent = 80\n",
    "    ValidationPercent = 10\n",
    "    TestPercent = 10\n",
    "    M = 10\n",
    "    PHI = []\n",
    "    IsSynthetic = False\n",
    "\n",
    "    def GetTargetVector(filePath):\n",
    "        t = []\n",
    "        with open(filePath, 'r') as f:\n",
    "            reader = csv.reader(f)\n",
    "            for row in reader:  \n",
    "                t.append(int(row[0]))\n",
    "        #print(\"Raw Training Generated..\")\n",
    "        return t\n",
    "\n",
    "    def GenerateRawData(filePath, IsSynthetic):    \n",
    "        dataMatrix = [] \n",
    "        with open(filePath, 'r') as fi:\n",
    "            reader = csv.reader(fi)\n",
    "            for row in reader:\n",
    "                dataRow = []\n",
    "                for column in row:\n",
    "                    dataRow.append(float(column))\n",
    "                dataMatrix.append(dataRow)   \n",
    "\n",
    "        if IsSynthetic == False :\n",
    "            dataMatrix = np.delete(dataMatrix, [5,6,7,8,9], axis=1)\n",
    "        dataMatrix = np.transpose(dataMatrix)     \n",
    "        return dataMatrix\n",
    "\n",
    "    def GenerateTrainingTarget(rawTraining,TrainingPercent = 80):\n",
    "        TrainingLen = int(math.ceil(len(rawTraining)*(TrainingPercent*0.01)))\n",
    "        t           = rawTraining[:TrainingLen]\n",
    "        return t\n",
    "\n",
    "    def GenerateTrainingDataMatrix(rawData, TrainingPercent = 80):\n",
    "        T_len = int(math.ceil(len(rawData[0])*0.01*TrainingPercent))\n",
    "        d2 = rawData[:,0:T_len]\n",
    "        return d2\n",
    "\n",
    "    def GenerateValData(rawData, ValPercent, TrainingCount): \n",
    "        valSize = int(math.ceil(len(rawData[0])*ValPercent*0.01))\n",
    "        V_End = TrainingCount + valSize\n",
    "        dataMatrix = rawData[:,TrainingCount+1:V_End]\n",
    "        return dataMatrix\n",
    "\n",
    "    def GenerateValTargetVector(rawData, ValPercent, TrainingCount): \n",
    "        valSize = int(math.ceil(len(rawData)*ValPercent*0.01))\n",
    "        V_End = TrainingCount + valSize\n",
    "        t =rawData[TrainingCount+1:V_End]\n",
    "        return t\n",
    "\n",
    "    def GenerateBigSigma(Data, MuMatrix,TrainingPercent,IsSynthetic):\n",
    "        BigSigma    = np.zeros((len(Data),len(Data)))\n",
    "        DataT       = np.transpose(Data)\n",
    "        TrainingLen = math.ceil(len(DataT)*(TrainingPercent*0.01))        \n",
    "        varVect     = []\n",
    "        for i in range(0,len(DataT[0])):\n",
    "            vct = []\n",
    "            for j in range(0,int(TrainingLen)):\n",
    "                vct.append(Data[i][j])    \n",
    "            varVect.append(np.var(vct))\n",
    "\n",
    "        for j in range(len(Data)):\n",
    "            BigSigma[j][j] = varVect[j]\n",
    "        if IsSynthetic == True:\n",
    "            BigSigma = np.dot(3,BigSigma)\n",
    "        else:\n",
    "            BigSigma = np.dot(200,BigSigma)\n",
    "        return BigSigma\n",
    "\n",
    "    def GetScalar(DataRow,MuRow, BigSigInv):  \n",
    "        R = np.subtract(DataRow,MuRow)\n",
    "        T = np.dot(BigSigInv,np.transpose(R))  \n",
    "        L = np.dot(R,T)\n",
    "        return L\n",
    "\n",
    "    def GetRadialBasisOut(DataRow,MuRow, BigSigInv):    \n",
    "        phi_x = math.exp(-0.5*GetScalar(DataRow,MuRow,BigSigInv))\n",
    "        return phi_x\n",
    "\n",
    "    def GetValTest(VAL_PHI,W):\n",
    "        Y = np.dot(W,np.transpose(VAL_PHI))\n",
    "        return Y\n",
    "\n",
    "    def GetErms(VAL_TEST_OUT,ValDataAct):\n",
    "        sum = 0.0\n",
    "        t=0\n",
    "        accuracy = 0.0\n",
    "        counter = 0\n",
    "        val = 0.0\n",
    "        for i in range (0,len(VAL_TEST_OUT)):\n",
    "            sum = sum + math.pow((ValDataAct[i] - VAL_TEST_OUT[i]),2)\n",
    "            if(int(np.around(VAL_TEST_OUT[i], 0)) == ValDataAct[i]):\n",
    "                counter+=1\n",
    "        accuracy = (float((counter*100))/float(len(VAL_TEST_OUT)))\n",
    "        return (str(accuracy) + ',' +  str(math.sqrt(sum/len(VAL_TEST_OUT))))\n",
    "\n",
    "\n",
    "    RawTarget = GetTargetVector(target)\n",
    "    RawData   = GenerateRawData(data,IsSynthetic)\n",
    "    \n",
    "    # Preparing Training Data\n",
    "    TrainingTarget = np.array(GenerateTrainingTarget(RawTarget,TrainingPercent))\n",
    "    TrainingData   = GenerateTrainingDataMatrix(RawData,TrainingPercent)\n",
    "\n",
    "    # Preparing Validation Data\n",
    "    ValDataAct = np.array(GenerateValTargetVector(RawTarget,ValidationPercent, (len(TrainingTarget))))\n",
    "    ValData    = GenerateValData(RawData,ValidationPercent, (len(TrainingTarget)))\n",
    "\n",
    "    # Preparing Test Data\n",
    "    TestDataAct = np.array(GenerateValTargetVector(RawTarget,TestPercent, (len(TrainingTarget)+len(ValDataAct))))\n",
    "    TestData = GenerateValData(RawData,TestPercent, (len(TrainingTarget)+len(ValDataAct)))\n",
    "\n",
    "    \n",
    "    # Gradient Descent solution for Logistic Regression\n",
    "    W_Now=np.random.rand(TrainingData.shape[0])\n",
    "    La           = 2\n",
    "    learningRate = 0.01\n",
    "    L_Erms_Val   = []\n",
    "    L_Erms_TR    = []\n",
    "    L_Erms_Test  = []\n",
    "    W_Mat        = []\n",
    "\n",
    "    def sigmoid(W, X):\n",
    "        return 1.0/(1+np.exp(-np.dot(X,np.transpose(W))))\n",
    "\n",
    "    for i in range(0,1250):\n",
    "\n",
    "        #print ('---------Iteration: ' + str(i) + '--------------')\n",
    "        sig           = sigmoid(W_Now, np.transpose(TrainingData))\n",
    "        sub           = np.subtract(sig,TrainingTarget)\n",
    "        Delta_E_D     = np.dot(TrainingData, sub)/TrainingData.shape[0]\n",
    "        La_Delta_E_W  = np.dot(La,W_Now)\n",
    "        Delta_E       = np.add(Delta_E_D,La_Delta_E_W)    \n",
    "        Delta_W       = -np.dot(learningRate,Delta_E)\n",
    "        W_T_Next      = W_Now + Delta_W\n",
    "        W_Now         = W_T_Next\n",
    "\n",
    "        #-----------------TrainingData Accuracy---------------------#\n",
    "        TR_TEST_OUT   = sigmoid(W_T_Next,np.transpose(TrainingData))\n",
    "        Erms_TR       = GetErms(TR_TEST_OUT,TrainingTarget)\n",
    "        L_Erms_TR.append(float(Erms_TR.split(',')[1]))\n",
    "\n",
    "        #-----------------ValidationData Accuracy---------------------#\n",
    "        VAL_TEST_OUT  = sigmoid(W_T_Next,np.transpose(ValData))\n",
    "        Erms_Val      = GetErms(VAL_TEST_OUT,ValDataAct)\n",
    "        L_Erms_Val.append(float(Erms_Val.split(',')[1]))\n",
    "\n",
    "        #-----------------TestingData Accuracy---------------------#\n",
    "        TEST_OUT      = sigmoid(W_T_Next,np.transpose(TestData))\n",
    "        Erms_Test = GetErms(TEST_OUT,TestDataAct)\n",
    "        L_Erms_Test.append(float(Erms_Test.split(',')[1]))\n",
    "    print ('----------Logistic Regression--------------------')\n",
    "    print ('----------Gradient Descent Solution',data,' and ',target,'--------------------')\n",
    "    print (\"\\neta=\",learningRate)\n",
    "    print (\"E_rms Training   = \" + str(np.around(min(L_Erms_TR),5)))\n",
    "    print (\"E_rms Validation = \" + str(np.around(min(L_Erms_Val),5)))\n",
    "    print (\"E_rms Testing    = \" + str(np.around(min(L_Erms_Test),5)))\n",
    "    fig,ax = plt.subplots(1)\n",
    "\n",
    "    ax.plot(iteration,L_Erms_TR)\n",
    "    ax.set_ylabel('Erms')\n",
    "    ax.set_xlabel('Iteration')\n",
    "\n",
    "\n",
    "    ax.set_yticklabels([])\n",
    "    ax.set_xticklabels([])\n",
    "    ax.set_title(\"Erms Training\")\n",
    "   \n",
    "    plt.show()"
   ]
  },
  {
   "cell_type": "code",
   "execution_count": null,
   "metadata": {},
   "outputs": [],
   "source": []
  }
 ],
 "metadata": {
  "kernelspec": {
   "display_name": "Python 3",
   "language": "python",
   "name": "python3"
  },
  "language_info": {
   "codemirror_mode": {
    "name": "ipython",
    "version": 3
   },
   "file_extension": ".py",
   "mimetype": "text/x-python",
   "name": "python",
   "nbconvert_exporter": "python",
   "pygments_lexer": "ipython3",
   "version": "3.6.5"
  }
 },
 "nbformat": 4,
 "nbformat_minor": 2
}
